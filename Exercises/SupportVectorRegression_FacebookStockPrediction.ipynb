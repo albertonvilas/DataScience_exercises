{
 "cells": [
  {
   "cell_type": "markdown",
   "metadata": {},
   "source": [
    "Import packages"
   ]
  },
  {
   "cell_type": "code",
   "execution_count": 1,
   "metadata": {},
   "outputs": [],
   "source": [
    "import pandas as pd\n",
    "import numpy as np\n",
    "from sklearn.svm import SVR\n",
    "import matplotlib.pyplot as plt"
   ]
  },
  {
   "cell_type": "code",
   "execution_count": 30,
   "metadata": {},
   "outputs": [
    {
     "data": {
      "text/html": [
       "<div>\n",
       "<style scoped>\n",
       "    .dataframe tbody tr th:only-of-type {\n",
       "        vertical-align: middle;\n",
       "    }\n",
       "\n",
       "    .dataframe tbody tr th {\n",
       "        vertical-align: top;\n",
       "    }\n",
       "\n",
       "    .dataframe thead th {\n",
       "        text-align: right;\n",
       "    }\n",
       "</style>\n",
       "<table border=\"1\" class=\"dataframe\">\n",
       "  <thead>\n",
       "    <tr style=\"text-align: right;\">\n",
       "      <th></th>\n",
       "      <th>Date</th>\n",
       "      <th>Open</th>\n",
       "      <th>High</th>\n",
       "      <th>Low</th>\n",
       "      <th>Close</th>\n",
       "      <th>Adj Close</th>\n",
       "      <th>Volume</th>\n",
       "    </tr>\n",
       "  </thead>\n",
       "  <tbody>\n",
       "    <tr>\n",
       "      <td>0</td>\n",
       "      <td>2019-02-20</td>\n",
       "      <td>162.250000</td>\n",
       "      <td>163.720001</td>\n",
       "      <td>161.250000</td>\n",
       "      <td>162.559998</td>\n",
       "      <td>162.559998</td>\n",
       "      <td>11770700</td>\n",
       "    </tr>\n",
       "    <tr>\n",
       "      <td>1</td>\n",
       "      <td>2019-02-21</td>\n",
       "      <td>161.929993</td>\n",
       "      <td>162.240005</td>\n",
       "      <td>159.589996</td>\n",
       "      <td>160.039993</td>\n",
       "      <td>160.039993</td>\n",
       "      <td>15607800</td>\n",
       "    </tr>\n",
       "    <tr>\n",
       "      <td>2</td>\n",
       "      <td>2019-02-22</td>\n",
       "      <td>160.580002</td>\n",
       "      <td>162.410004</td>\n",
       "      <td>160.309998</td>\n",
       "      <td>161.889999</td>\n",
       "      <td>161.889999</td>\n",
       "      <td>15858500</td>\n",
       "    </tr>\n",
       "    <tr>\n",
       "      <td>3</td>\n",
       "      <td>2019-02-25</td>\n",
       "      <td>163.070007</td>\n",
       "      <td>166.070007</td>\n",
       "      <td>162.899994</td>\n",
       "      <td>164.619995</td>\n",
       "      <td>164.619995</td>\n",
       "      <td>18737100</td>\n",
       "    </tr>\n",
       "    <tr>\n",
       "      <td>4</td>\n",
       "      <td>2019-02-26</td>\n",
       "      <td>164.339996</td>\n",
       "      <td>166.240005</td>\n",
       "      <td>163.800003</td>\n",
       "      <td>164.130005</td>\n",
       "      <td>164.130005</td>\n",
       "      <td>13784100</td>\n",
       "    </tr>\n",
       "    <tr>\n",
       "      <td>5</td>\n",
       "      <td>2019-02-27</td>\n",
       "      <td>162.899994</td>\n",
       "      <td>163.929993</td>\n",
       "      <td>160.410004</td>\n",
       "      <td>162.809998</td>\n",
       "      <td>162.809998</td>\n",
       "      <td>12697500</td>\n",
       "    </tr>\n",
       "    <tr>\n",
       "      <td>6</td>\n",
       "      <td>2019-02-28</td>\n",
       "      <td>162.369995</td>\n",
       "      <td>163.500000</td>\n",
       "      <td>160.860001</td>\n",
       "      <td>161.449997</td>\n",
       "      <td>161.449997</td>\n",
       "      <td>11114200</td>\n",
       "    </tr>\n",
       "  </tbody>\n",
       "</table>\n",
       "</div>"
      ],
      "text/plain": [
       "         Date        Open        High         Low       Close   Adj Close  \\\n",
       "0  2019-02-20  162.250000  163.720001  161.250000  162.559998  162.559998   \n",
       "1  2019-02-21  161.929993  162.240005  159.589996  160.039993  160.039993   \n",
       "2  2019-02-22  160.580002  162.410004  160.309998  161.889999  161.889999   \n",
       "3  2019-02-25  163.070007  166.070007  162.899994  164.619995  164.619995   \n",
       "4  2019-02-26  164.339996  166.240005  163.800003  164.130005  164.130005   \n",
       "5  2019-02-27  162.899994  163.929993  160.410004  162.809998  162.809998   \n",
       "6  2019-02-28  162.369995  163.500000  160.860001  161.449997  161.449997   \n",
       "\n",
       "     Volume  \n",
       "0  11770700  \n",
       "1  15607800  \n",
       "2  15858500  \n",
       "3  18737100  \n",
       "4  13784100  \n",
       "5  12697500  \n",
       "6  11114200  "
      ]
     },
     "execution_count": 30,
     "metadata": {},
     "output_type": "execute_result"
    }
   ],
   "source": [
    "#Load the data\n",
    "#from google.colab import files # Use to load data on Google Colab\n",
    "#uploaded = files.upload() # Use to load data on Google Colab\n",
    "df = pd.read_csv('FB.csv')\n",
    "df= df.iloc[0:30] # first five rows of dataframe\n",
    "df.head(7)"
   ]
  },
  {
   "cell_type": "code",
   "execution_count": 31,
   "metadata": {},
   "outputs": [],
   "source": [
    "dates = []\n",
    "prices = []"
   ]
  },
  {
   "cell_type": "code",
   "execution_count": 32,
   "metadata": {},
   "outputs": [
    {
     "data": {
      "text/plain": [
       "(30, 7)"
      ]
     },
     "execution_count": 32,
     "metadata": {},
     "output_type": "execute_result"
    }
   ],
   "source": [
    "#Get the number of rows and columns in the data set \n",
    "df.shape"
   ]
  },
  {
   "cell_type": "code",
   "execution_count": 33,
   "metadata": {},
   "outputs": [
    {
     "data": {
      "text/html": [
       "<div>\n",
       "<style scoped>\n",
       "    .dataframe tbody tr th:only-of-type {\n",
       "        vertical-align: middle;\n",
       "    }\n",
       "\n",
       "    .dataframe tbody tr th {\n",
       "        vertical-align: top;\n",
       "    }\n",
       "\n",
       "    .dataframe thead th {\n",
       "        text-align: right;\n",
       "    }\n",
       "</style>\n",
       "<table border=\"1\" class=\"dataframe\">\n",
       "  <thead>\n",
       "    <tr style=\"text-align: right;\">\n",
       "      <th></th>\n",
       "      <th>Date</th>\n",
       "      <th>Open</th>\n",
       "      <th>High</th>\n",
       "      <th>Low</th>\n",
       "      <th>Close</th>\n",
       "      <th>Adj Close</th>\n",
       "      <th>Volume</th>\n",
       "    </tr>\n",
       "  </thead>\n",
       "  <tbody>\n",
       "    <tr>\n",
       "      <td>29</td>\n",
       "      <td>2019-04-02</td>\n",
       "      <td>170.139999</td>\n",
       "      <td>174.899994</td>\n",
       "      <td>169.550003</td>\n",
       "      <td>174.199997</td>\n",
       "      <td>174.199997</td>\n",
       "      <td>23946500</td>\n",
       "    </tr>\n",
       "  </tbody>\n",
       "</table>\n",
       "</div>"
      ],
      "text/plain": [
       "          Date        Open        High         Low       Close   Adj Close  \\\n",
       "29  2019-04-02  170.139999  174.899994  169.550003  174.199997  174.199997   \n",
       "\n",
       "      Volume  \n",
       "29  23946500  "
      ]
     },
     "execution_count": 33,
     "metadata": {},
     "output_type": "execute_result"
    }
   ],
   "source": [
    "df.tail(1)"
   ]
  },
  {
   "cell_type": "code",
   "execution_count": 34,
   "metadata": {},
   "outputs": [
    {
     "name": "stdout",
     "output_type": "stream",
     "text": [
      "(29, 7)\n"
     ]
    }
   ],
   "source": [
    "df = df.head(len(df)-1)\n",
    "print(df.shape)"
   ]
  },
  {
   "cell_type": "code",
   "execution_count": 35,
   "metadata": {},
   "outputs": [],
   "source": [
    "df_dates = df.loc[:,'Date']\n",
    "df_open = df.loc[:,'Open']"
   ]
  },
  {
   "cell_type": "code",
   "execution_count": 36,
   "metadata": {},
   "outputs": [],
   "source": [
    "#Create the independent data set 'X' as dates\n",
    "for date in df_dates:\n",
    "  dates.append( [int(date.split('-')[2])] )\n",
    "  \n",
    "#Create the dependent data set 'y' as prices\n",
    "for open_price in df_open:\n",
    "  prices.append(float(open_price))"
   ]
  },
  {
   "cell_type": "code",
   "execution_count": 37,
   "metadata": {},
   "outputs": [
    {
     "name": "stdout",
     "output_type": "stream",
     "text": [
      "[[20], [21], [22], [25], [26], [27], [28], [1], [4], [5], [6], [7], [8], [11], [12], [13], [14], [15], [18], [19], [20], [21], [22], [25], [26], [27], [28], [29], [1]]\n"
     ]
    }
   ],
   "source": [
    "print(dates)"
   ]
  },
  {
   "cell_type": "code",
   "execution_count": 41,
   "metadata": {},
   "outputs": [],
   "source": [
    "#Function to make predictions using 3 different support vector regression models with 3 different kernals\n",
    "def predict_prices(dates, prices, x):\n",
    "  \n",
    "  #Create 3 Support Vector Regression Models\n",
    "    svr_lin = SVR(kernel='linear', C=1e3)\n",
    "    svr_poly = SVR(kernel='poly', C=1e3, degree=2)\n",
    "    svr_rbf = SVR(kernel='rbf', C=1e3, gamma=0.1)\n",
    "  \n",
    "  #Train the models on the dates and prices\n",
    "    svr_lin.fit(dates,prices)\n",
    "    svr_poly.fit(dates, prices)\n",
    "    svr_rbf.fit(dates, prices)\n",
    "\n",
    "  \n",
    "  #Plot the models on a graph to see which has the best fit\n",
    "    plt.scatter(dates, prices, color = 'black', label='Data')\n",
    "    plt.plot(dates, svr_rbf.predict(dates), color = 'red', label='RBF model')\n",
    "    plt.plot(dates, svr_lin.predict(dates), color = 'green', label='Linear model')\n",
    "    plt.plot(dates, svr_poly.predict(dates), color = 'blue', label='Polynomial model')\n",
    "    plt.xlabel('Date')\n",
    "    plt.ylabel('Price')\n",
    "    plt.title('Support Vector Regression')\n",
    "    plt.legend()\n",
    "    plt.show()\n",
    "  \n",
    "  #return all three model predictions\n",
    "    return svr_rbf.predict(x)[0], svr_lin.predict(x)[0], svr_poly.predict(x)[0]"
   ]
  },
  {
   "cell_type": "code",
   "execution_count": 42,
   "metadata": {},
   "outputs": [
    {
     "ename": "TypeError",
     "evalue": "score() missing 2 required positional arguments: 'X' and 'y'",
     "output_type": "error",
     "traceback": [
      "\u001b[1;31m---------------------------------------------------------------------------\u001b[0m",
      "\u001b[1;31mTypeError\u001b[0m                                 Traceback (most recent call last)",
      "\u001b[1;32m<ipython-input-42-098a01cb3cf1>\u001b[0m in \u001b[0;36m<module>\u001b[1;34m\u001b[0m\n\u001b[0;32m      1\u001b[0m \u001b[1;31m#Predict the price of FB on day 31\u001b[0m\u001b[1;33m\u001b[0m\u001b[1;33m\u001b[0m\u001b[1;33m\u001b[0m\u001b[0m\n\u001b[1;32m----> 2\u001b[1;33m \u001b[0mpredicted_price\u001b[0m \u001b[1;33m=\u001b[0m \u001b[0mpredict_prices\u001b[0m\u001b[1;33m(\u001b[0m\u001b[0mdates\u001b[0m\u001b[1;33m,\u001b[0m \u001b[0mprices\u001b[0m\u001b[1;33m,\u001b[0m \u001b[1;33m[\u001b[0m\u001b[1;33m[\u001b[0m\u001b[1;36m31\u001b[0m\u001b[1;33m]\u001b[0m\u001b[1;33m]\u001b[0m\u001b[1;33m)\u001b[0m\u001b[1;33m\u001b[0m\u001b[1;33m\u001b[0m\u001b[0m\n\u001b[0m\u001b[0;32m      3\u001b[0m \u001b[0mprint\u001b[0m\u001b[1;33m(\u001b[0m\u001b[0mpredicted_price\u001b[0m\u001b[1;33m)\u001b[0m\u001b[1;33m\u001b[0m\u001b[1;33m\u001b[0m\u001b[0m\n",
      "\u001b[1;32m<ipython-input-41-e8d5254f3170>\u001b[0m in \u001b[0;36mpredict_prices\u001b[1;34m(dates, prices, x)\u001b[0m\n\u001b[0;32m     11\u001b[0m     \u001b[0msvr_poly\u001b[0m\u001b[1;33m.\u001b[0m\u001b[0mfit\u001b[0m\u001b[1;33m(\u001b[0m\u001b[0mdates\u001b[0m\u001b[1;33m,\u001b[0m \u001b[0mprices\u001b[0m\u001b[1;33m)\u001b[0m\u001b[1;33m\u001b[0m\u001b[1;33m\u001b[0m\u001b[0m\n\u001b[0;32m     12\u001b[0m     \u001b[0msvr_rbf\u001b[0m\u001b[1;33m.\u001b[0m\u001b[0mfit\u001b[0m\u001b[1;33m(\u001b[0m\u001b[0mdates\u001b[0m\u001b[1;33m,\u001b[0m \u001b[0mprices\u001b[0m\u001b[1;33m)\u001b[0m\u001b[1;33m\u001b[0m\u001b[1;33m\u001b[0m\u001b[0m\n\u001b[1;32m---> 13\u001b[1;33m     \u001b[0msvr_lin\u001b[0m\u001b[1;33m.\u001b[0m\u001b[0mscore\u001b[0m\u001b[1;33m(\u001b[0m\u001b[1;33m)\u001b[0m\u001b[1;33m\u001b[0m\u001b[1;33m\u001b[0m\u001b[0m\n\u001b[0m\u001b[0;32m     14\u001b[0m \u001b[1;33m\u001b[0m\u001b[0m\n\u001b[0;32m     15\u001b[0m \u001b[1;33m\u001b[0m\u001b[0m\n",
      "\u001b[1;31mTypeError\u001b[0m: score() missing 2 required positional arguments: 'X' and 'y'"
     ]
    }
   ],
   "source": [
    "#Predict the price of FB on day 31\n",
    "predicted_price = predict_prices(dates, prices, [[31]])\n",
    "print(predicted_price)"
   ]
  },
  {
   "cell_type": "code",
   "execution_count": null,
   "metadata": {},
   "outputs": [],
   "source": []
  }
 ],
 "metadata": {
  "kernelspec": {
   "display_name": "Python 3",
   "language": "python",
   "name": "python3"
  },
  "language_info": {
   "codemirror_mode": {
    "name": "ipython",
    "version": 3
   },
   "file_extension": ".py",
   "mimetype": "text/x-python",
   "name": "python",
   "nbconvert_exporter": "python",
   "pygments_lexer": "ipython3",
   "version": "3.7.4"
  }
 },
 "nbformat": 4,
 "nbformat_minor": 2
}
